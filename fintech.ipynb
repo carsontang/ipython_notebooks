{
 "cells": [
  {
   "cell_type": "markdown",
   "metadata": {},
   "source": [
    "# Fintech\n",
    "---"
   ]
  },
  {
   "cell_type": "markdown",
   "metadata": {},
   "source": [
    "![picture of Big Short actors](http://pixel.nymag.com/imgs/daily/vulture/2015/11/24/big-short/25-big-short-opener.w529.h352.jpg)"
   ]
  },
  {
   "cell_type": "markdown",
   "metadata": {},
   "source": [
    "*Example equation*: $$S_T = S_0 \\exp((r-0.5\\sigma^2) T + \\sigma \\sqrt{T}z)$$\n",
    "\n",
    "$\\begin{eqnarray*}\n",
    "C(S_t, K, T, r, \\sigma) &=& \\frac{1}{\\sqrt{2\\pi}}\\int_{\\infty}^{d}e^{x^2}dx\n",
    "\\end{eqnarray*}$"
   ]
  },
  {
   "cell_type": "code",
   "execution_count": 2,
   "metadata": {
    "collapsed": false
   },
   "outputs": [
    {
     "name": "stdout",
     "output_type": "stream",
     "text": [
      "IPython version:  4.0.1 (need at least 1.0)\n",
      "Panda version: 0.17.1\n"
     ]
    }
   ],
   "source": [
    "import IPython\n",
    "print \"IPython version: %6.6s (need at least 1.0)\" % IPython.__version__\n",
    "\n",
    "import pandas as pd\n",
    "print \"Panda version: %6.6s\" % pd.__version__\n",
    "\n",
    "# Inline matplotlib plots in IPython notebook\n",
    "%matplotlib inline\n",
    "import matplotlib.pyplot as plt"
   ]
  },
  {
   "cell_type": "markdown",
   "metadata": {},
   "source": [
    "## Downloading Yahoo! Finance Data (Manual)"
   ]
  },
  {
   "cell_type": "markdown",
   "metadata": {},
   "source": [
    "http://ichart.finance.yahoo.com/table.csv?s=YHOO&d=0&e=28&f=2010&g=d&a=3&b=12&c=1996&ignore=.csv\n",
    "\n",
    "sn = TICKER\n",
    "a = fromMonth-1\n",
    "b = fromDay (two digits)\n",
    "c = fromYear\n",
    "d = toMonth-1\n",
    "e = toDay (two digits)\n",
    "f = toYear\n",
    "g = d for day, m for month, y for yearly"
   ]
  },
  {
   "cell_type": "code",
   "execution_count": 41,
   "metadata": {
    "collapsed": false
   },
   "outputs": [
    {
     "name": "stdout",
     "output_type": "stream",
     "text": [
      "<class 'pandas.core.frame.DataFrame'>\n"
     ]
    },
    {
     "data": {
      "text/plain": [
       "[<matplotlib.lines.Line2D at 0x1108fa090>]"
      ]
     },
     "execution_count": 41,
     "metadata": {},
     "output_type": "execute_result"
    },
    {
     "data": {
      "image/png": "[encoded data removed]",
      "text/plain": [
       "<matplotlib.figure.Figure at 0x110de54d0>"
      ]
     },
     "metadata": {},
     "output_type": "display_data"
    }
   ],
   "source": [
    "import dateutil.parser\n",
    "\n",
    "url = 'http://ichart.finance.yahoo.com/table.csv?s=YHOO&d=0&e=28&f=2010&g=d&a=3&b=12&c=1996&ignore=.csv'\n",
    "# url = 'http://ichart.finance.yahoo.com/table.csv?s=AMZN&d=0&e=020&f=2016&g=d&a=1&b=14&c=2014&ignore=.csv'\n",
    "stock = pd.read_csv(url)\n",
    "dates = pd.to_datetime(stock['Date'])\n",
    "plt.plot(dates, stock['Close'])\n",
    "\n",
    "# pd.Series(stock['Close'], index=dates).plot()\n",
    "# pd.Series(stock['Close'], index=dates.values).plot() "
   ]
  },
  {
   "cell_type": "markdown",
   "metadata": {},
   "source": [
    "## Downloading Yahoo! Finance Data (Pandas)"
   ]
  },
  {
   "cell_type": "code",
   "execution_count": 75,
   "metadata": {
    "collapsed": false
   },
   "outputs": [
    {
     "name": "stdout",
     "output_type": "stream",
     "text": [
      "-0.0227272727273\n",
      "                YHOO\n",
      "Date                \n",
      "1996-04-12       NaN\n",
      "1996-04-15 -0.022727\n",
      "1996-04-16 -0.108525\n",
      "1996-04-17 -0.060872\n",
      "1996-04-18  0.083333\n",
      "1996-04-19 -0.012825\n",
      "1996-04-22 -0.021644\n",
      "1996-04-23 -0.008844\n",
      "1996-04-24  0.035708\n",
      "1996-04-25  0.077586\n",
      "1996-04-26  0.016005\n",
      "1996-04-29 -0.023622\n",
      "1996-04-30 -0.040328\n",
      "1996-05-01  0.063029\n",
      "1996-05-02  0.039523\n",
      "1996-05-03 -0.026617\n",
      "1996-05-06 -0.058590\n",
      "1996-05-07  0.008293\n",
      "1996-05-08 -0.004109\n",
      "1996-05-09  0.016526\n",
      "1996-05-10  0.016258\n",
      "1996-05-13 -0.031995\n",
      "1996-05-14 -0.024793\n",
      "1996-05-15  0.025424\n",
      "1996-05-16  0.000000\n",
      "1996-05-17 -0.008267\n",
      "1996-05-20 -0.033336\n",
      "1996-05-21 -0.034477\n",
      "1996-05-22 -0.017863\n",
      "1996-05-23  0.072733\n",
      "...              ...\n",
      "2009-12-15 -0.004428\n",
      "2009-12-16  0.003177\n",
      "2009-12-17  0.001900\n",
      "2009-12-18  0.020227\n",
      "2009-12-21 -0.016109\n",
      "2009-12-22  0.006297\n",
      "2009-12-23  0.043179\n",
      "2009-12-24  0.002999\n",
      "2009-12-28  0.009569\n",
      "2009-12-29  0.002370\n",
      "2009-12-30  0.003546\n",
      "2009-12-31 -0.011779\n",
      "2010-01-04  0.019070\n",
      "2010-01-05  0.007602\n",
      "2010-01-06 -0.003482\n",
      "2010-01-07 -0.027373\n",
      "2010-01-08  0.000000\n",
      "2010-01-11  0.002395\n",
      "2010-01-12 -0.003584\n",
      "2010-01-13  0.013189\n",
      "2010-01-14  0.013018\n",
      "2010-01-15 -0.017523\n",
      "2010-01-19 -0.004162\n",
      "2010-01-20 -0.022090\n",
      "2010-01-21 -0.010989\n",
      "2010-01-22 -0.019753\n",
      "2010-01-25 -0.001259\n",
      "2010-01-26  0.008197\n",
      "2010-01-27 -0.000625\n",
      "2010-01-28 -0.033792\n",
      "\n",
      "[3473 rows x 1 columns]\n"
     ]
    },
    {
     "data": {
      "image/png": "[encoded data removed]",
      "text/plain": [
       "<matplotlib.figure.Figure at 0x10d4837d0>"
      ]
     },
     "metadata": {},
     "output_type": "display_data"
    }
   ],
   "source": [
    "import pandas.io.data as web\n",
    "yhoo = web.get_data_yahoo('YHOO', '4/12/1996', '1/28/2010')\n",
    "dates = pd.to_datetime(stock[u'Date'])\n",
    "plt.plot(dates, stock[u'Close'])\n",
    "\n",
    "all_data = {'YHOO': yhoo}\n",
    "# for ticker in ['AAPL', 'IBM', 'MSFT', 'GOOG']:\n",
    "#     all_data[ticker] = web.get_data_yahoo(ticker, '1/1/2000', '1/1/2010')\n",
    "\n",
    "\n",
    "price = pd.DataFrame({tic: data[u'Adj Close'] for tic, data in all_data.iteritems()})\n",
    "a = yhoo[u'Adj Close'][0]\n",
    "b = yhoo[u'Adj Close'][1]\n",
    "\n",
    "print (b - a)/a\n",
    "print price.pct_change()\n",
    "# volume = DataFrame({tic: data['Volume'] for tic, data in all_data.iteritems()})"
   ]
  },
  {
   "cell_type": "markdown",
   "metadata": {},
   "source": [
    "## Resources"
   ]
  },
  {
   "cell_type": "markdown",
   "metadata": {},
   "source": [
    "* [Markdown Syntax Tutorial](http://daringfireball.net/projects/markdown/basics)\n",
    "* [iPython Tutorial](https://www.safaribooksonline.com/blog/2013/12/12/start-ipython-notebook/)\n",
    "* [96 Stock APIs](http://www.programmableweb.com/news/96-stocks-apis-bloomberg-nasdaq-and-etrade/2013/05/22)\n",
    "* [FDA Approvals](http://www.accessdata.fda.gov/scripts/cder/drugsatfda/index.cfm?fuseaction=Reports.MonthlyApprovalsAll)\n",
    "* [Historical Stock Data](http://quant.caltech.edu/historical-stock-data.html)\n",
    "* [Alternatives to Google Finance](http://stackoverflow.com/questions/10040954/alternative-to-google-finance-api)\n",
    "* [Panda Basics](http://earthpy.org/pandas-basics.html)\n",
    "* [Spotify Deep Learning](http://benanne.github.io/2014/08/05/spotify-cnns.html)"
   ]
  },
  {
   "cell_type": "code",
   "execution_count": null,
   "metadata": {
    "collapsed": true
   },
   "outputs": [],
   "source": []
  }
 ],
 "metadata": {
  "kernelspec": {
   "display_name": "Python 2",
   "language": "python",
   "name": "python2"
  },
  "language_info": {
   "codemirror_mode": {
    "name": "ipython",
    "version": 2
   },
   "file_extension": ".py",
   "mimetype": "text/x-python",
   "name": "python",
   "nbconvert_exporter": "python",
   "pygments_lexer": "ipython2",
   "version": "2.7.11"
  }
 },
 "nbformat": 4,
 "nbformat_minor": 0
}
