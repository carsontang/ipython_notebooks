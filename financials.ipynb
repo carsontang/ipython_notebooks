{
 "cells": [
  {
   "cell_type": "markdown",
   "metadata": {},
   "source": [
    "# Derivation of average rate of return of S&P 500 (1976-2016)\n",
    "---\n",
    "\n",
    "`r = average rate of return`\n",
    "\n",
    "`n = number of years elapsed`\n",
    "\n",
    "`price_start * (1 + r)^n = price_end`\n",
    "\n",
    "`(1 + r)^n = price_end / price_start`\n",
    "\n",
    "`1 + r = (price_end / price_start)^(1/n)`\n",
    "\n",
    "`r = (price_end / price_start)^(1/n) - 1`"
   ]
  },
  {
   "cell_type": "code",
   "execution_count": 31,
   "metadata": {
    "collapsed": false
   },
   "outputs": [
    {
     "name": "stdout",
     "output_type": "stream",
     "text": [
      "average rate of return of market gain: 7.90%\n",
      "averate rate of return of dividends: 2.47%\n"
     ]
    }
   ],
   "source": [
    "t_start = 1976\n",
    "t_end = 2016\n",
    "n = t_end - t_start\n",
    "price_start = 103.79  # price of S&P500 at end of August 6, 1976\n",
    "price_end = 2173.60   # price of S&P500 at end of July 29, 2016\n",
    "\n",
    "r = (price_end / price_start)**(1.0/n) - 1\n",
    "r_in_percent = r * 100\n",
    "print \"average rate of return of market gain: %.2f%%\" % r_in_percent\n",
    "\n",
    "d_start = 16.77\n",
    "d_end = 44.46\n",
    "dr = (d_end / d_start)**(1.0/n) - 1\n",
    "dr_in_percent = dr * 100\n",
    "print \"averate rate of return of dividends: %.2f%%\" % dr_in_percent"
   ]
  },
  {
   "cell_type": "markdown",
   "metadata": {},
   "source": [
    "# How to derive the average rate of return\n",
    "The above calculation shows that **the average rate of return of the S&P500 from 1976-2016 was 7.90%**. We're interested in the S&P500's average rate of return because that's the rate we need to beat if we're going to engage in stockpicking to beat the market. The S&P500 doesn't represent the entire market, but it's a good proxy. (If you check the [NYSE](http://www.nasdaq.com/screening/companies-by-industry.aspx?exchange=NYSE) and the [NASDAQ](http://www.nasdaq.com/screening/companies-by-industry.aspx?exchange=NASDAQ), you'll see that there are about 6000 publicly listed stocks in the two largest U.S. exchanges. While the S&P500 contains about one-twelfth the number of public listed companies, it's a good proxy for the total U.S. stock market.) Some stocks also return **dividends**, and in our case, we calculated the rate to be **2.47%**.\n",
    "\n",
    "Two things eat into your stock market gains: taxes and inflation. Assuming we put our money in the stock market and never sell to realize gains (or losses), and assuming we automatically reinvest all dividends into purchasing more shares, we can avoid taxes. That leaves us with inflation. This means our **10.37%** total average rate of return isn't the final rate of return. Using the [US inflation calculator](http://www.usinflationcalculator.com/), a dollar in 1976 is worth \\$4.24 in 2016, for a cumulative rate of inflation of 323.6%. Let's calculate the average rate of inflation from these numbers."
   ]
  },
  {
   "cell_type": "code",
   "execution_count": 42,
   "metadata": {
    "collapsed": false
   },
   "outputs": [
    {
     "name": "stdout",
     "output_type": "stream",
     "text": [
      "average rate of inflation: 3.67%\n",
      "average rate of inflation: 2.13%\n"
     ]
    }
   ],
   "source": [
    "cumulative_rate_of_inflation = 4.236\n",
    "average_rate_of_inflation = cumulative_rate_of_inflation ** (1.0/(2016-1976)) - 1\n",
    "print \"average rate of inflation: %.2f%%\" % (average_rate_of_inflation * 100)"
   ]
  },
  {
   "cell_type": "markdown",
   "metadata": {},
   "source": [
    "# How to derive the average rate of inflation\n",
    "\n",
    "The above calculation shows that the average rate of inflation over 40 years is about **3%**. This agrees with published numbers from [Ben Graham's The Intelligent Investor](https://www.amazon.com/Intelligent-Investor-Definitive-Investing-Essentials/dp/0060555661) and other common investing tutorials.\n",
    "\n",
    "Note that the cumulative rate of inflation was 323.6%. To get this number, see that \\$1 is worth \\$4.24, so that means the **rate** is *4.24 - 1*. The percentage is simply the rate multiplied by 100.\n",
    "\n",
    "Also note that the reverse calculation is done to obtain the average rate of inflation."
   ]
  },
  {
   "cell_type": "markdown",
   "metadata": {},
   "source": [
    "# Real rate of return\n",
    "\n",
    "With the inflation rate at 3% and the average rate of return of the S&P500 at 10.37%, that means real gains from investing in a total U.S. stock market index fund is 7.37% (again, assuming no taxes). "
   ]
  },
  {
   "cell_type": "code",
   "execution_count": null,
   "metadata": {
    "collapsed": true
   },
   "outputs": [],
   "source": []
  }
 ],
 "metadata": {
  "kernelspec": {
   "display_name": "Python 2",
   "language": "python",
   "name": "python2"
  },
  "language_info": {
   "codemirror_mode": {
    "name": "ipython",
    "version": 2
   },
   "file_extension": ".py",
   "mimetype": "text/x-python",
   "name": "python",
   "nbconvert_exporter": "python",
   "pygments_lexer": "ipython2",
   "version": "2.7.11"
  }
 },
 "nbformat": 4,
 "nbformat_minor": 0
}
